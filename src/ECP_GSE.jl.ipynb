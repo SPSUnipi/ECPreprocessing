{
 "cells": [
  {
   "cell_type": "markdown",
   "metadata": {},
   "source": [
    "### Load and import"
   ]
  },
  {
   "cell_type": "code",
   "execution_count": null,
   "metadata": {},
   "outputs": [],
   "source": [
    "using Plots\n",
    "using XLSX\n",
    "using YAML\n",
    "using CSV\n",
    "using DataFrames\n",
    "using Statistics\n",
    "using StatsBase\n",
    "using Dates"
   ]
  },
  {
   "cell_type": "markdown",
   "metadata": {},
   "source": [
    "Load GSE selected data"
   ]
  },
  {
   "cell_type": "code",
   "execution_count": null,
   "metadata": {},
   "outputs": [],
   "source": [
    "# Define the file path\n",
    "#aaaaaa\n",
    "general_path = @__DIR__\n",
    "relative_path_GSE = \"../data/GSE_prelievo.xlsx\"\n",
    "file_GSE= joinpath(general_path,relative_path_GSE)\n",
    "\n",
    "# Read data from the first sheet of the Excel file\n",
    "GSE_profiles= DataFrame(XLSX.readtable(file_GSE,\"Foglio1\"));"
   ]
  },
  {
   "cell_type": "markdown",
   "metadata": {},
   "source": [
    "Selection of relevant profiles"
   ]
  },
  {
   "cell_type": "code",
   "execution_count": null,
   "metadata": {},
   "outputs": [],
   "source": [
    "# Domestic, non domestic and public lighting are selected as representative of the different sectors\n",
    "# Firstly, the data is filtered to select only the column of interest\n",
    "selected_columns_residential = [\"PDMM\",#=\"PDMF\"=#]\n",
    "selected_columns_mono = [\"PDMM\",\"PICM\",\"PAUM\"]\n",
    "selected_columns_bi = [\"PDMF\",\"PICF\",\"PAUF\"]\n",
    "\n",
    "# The date is also selected\n",
    "selected_date = [\"Anno\",\"Mese\",\"Giorno\",\"Ora\"]\n",
    "\n",
    "selected_complete = vcat(selected_date,selected_columns_residential)\n",
    "\n",
    "# The data is then filtered to select only the rows of interest\n",
    "GSE_profiles_resident = GSE_profiles[:,selected_complete]\n",
    "\n",
    "# Show only first 20 rows\n",
    "#first(GSE_profiles_resident,15)"
   ]
  },
  {
   "cell_type": "markdown",
   "metadata": {},
   "source": [
    "# Relative or absolute values"
   ]
  },
  {
   "cell_type": "code",
   "execution_count": null,
   "metadata": {},
   "outputs": [],
   "source": [
    "#= ARERA_all_power_consumption = [202, 168, 183, 154, 151, 174, 215, 179, 148, 142, 158, 176]\n",
    "ARERA_1_3_power_consumption = [174, 144, 151, 133, 128, 143, 180, 158, 125, 122, 133, 152]\n",
    "ARERA_average_month = [mean(ARERA_all_power_consumption) for i in 1:12] =#\n",
    "Antrodoco_profiles = [189, 162, 212, 196, 184, 138, 148, 154, 145, 171, 195, 206]\n",
    "\n",
    "# The data is then multiplied or not by ARERA values\n",
    "# Select \"Relative\" or \"Absolute\" to choose the type of data\n",
    "status = \"Absolute\"\n",
    "\n",
    "# The GSE data is multiplied by the ARERA data to obtain the total consumption\n",
    "# For each monthly firstly we do the sum over PDMM and then multiply by the ARERA data\n",
    "GSE_monthly_sum = zeros(12)\n",
    "if status == \"Absolute\"\n",
    "    for i in 1:12\n",
    "        GSE_monthly_sum[i] = sum(GSE_profiles_resident[GSE_profiles_resident[:,:Mese].==i,:PDMM])\n",
    "        # The GSE data is then multiplied by the ARERA data when the month is the same\n",
    "        GSE_profiles_resident[GSE_profiles_resident.Mese .== i,:PDMM] = GSE_profiles_resident[GSE_profiles_resident.Mese .== i,:PDMM] .* Antrodoco_profiles[i] ./ GSE_monthly_sum[i]\n",
    "    end\n",
    "end"
   ]
  },
  {
   "cell_type": "markdown",
   "metadata": {},
   "source": [
    "# Plots"
   ]
  },
  {
   "cell_type": "code",
   "execution_count": null,
   "metadata": {},
   "outputs": [],
   "source": [
    "# Assumendo che \"Ora\" sia una colonna in GSE_profiles e che tu voglia calcolare la media di una colonna chiamata \"Valore\"\n",
    "grouped = groupby(GSE_profiles_resident, :Ora)\n",
    "average_curve = combine(grouped, :PDMM => mean => :Valore_medio)\n",
    "median_curve = combine(grouped, :PDMM => median => :Valore_mediano)\n",
    "maximum_curve = combine(grouped, :PDMM => maximum => :Valore_massimo)\n",
    "minimum_curve = combine(grouped, :PDMM => minimum => :Valore_minimo)\n",
    "\n",
    "# Create base plot\n",
    "if status == \"Absolute\"\n",
    "    p0 = plot(xlab = \"Ora\", ylab = \"Potenza [kW]\",)\n",
    "else\n",
    "    p0 = plot(xlab = \"Ora\", ylab = \"Distribuzione [%]\",)\n",
    "end\n",
    "\n",
    "p1 = deepcopy(p0)\n",
    "\n",
    "\n",
    "# Plot the data\n",
    "plot!(p1, average_curve.Ora, average_curve.Valore_medio, label = \"Valore medio\", color = :red)\n",
    "plot!(p1, median_curve.Ora, median_curve.Valore_mediano, label = \"Valore mediano\", color = :red, line = :dash)\n",
    "plot!(p1, maximum_curve.Ora, maximum_curve.Valore_massimo, label = \"Valore massimo\", color = :blue)\n",
    "plot!(p1, minimum_curve.Ora, minimum_curve.Valore_minimo, label = \"Valore minimo\", color = :green)\n",
    "\n",
    "# Show the plot\n",
    "display(p1)\n",
    "\n",
    "# Save the plot\n",
    "savefig(joinpath(general_path,\"../results/Immagini/GSE/GSE_statistics.png\"))"
   ]
  },
  {
   "cell_type": "code",
   "execution_count": null,
   "metadata": {},
   "outputs": [],
   "source": [
    "# Raggruppa i dati per :Ora e :Mese e calcola la media\n",
    "grouped_hourly = groupby(GSE_profiles_resident, [:Ora, :Mese])\n",
    "average_curve_hourly = combine(grouped_hourly, :PDMM => mean => :Valore_medio)\n",
    "\n",
    "# Crea un nuovo plot\n",
    "p2 = deepcopy(p0)\n",
    "\n",
    "# Plotta i dati\n",
    "for i in unique(average_curve_hourly.Mese)\n",
    "    subset = average_curve_hourly[average_curve_hourly.Mese .== i, :]\n",
    "    plot!(p2, subset.Ora, subset.Valore_medio, label = \"Mese $i\", color = rand(RGB))\n",
    "end\n",
    "\n",
    "# Mostra il plot\n",
    "display(p2)\n",
    "\n",
    "# Salva il plot\n",
    "savefig(joinpath(general_path,\"../results/Immagini/GSE/GSE_all_months.png\"))\n"
   ]
  },
  {
   "cell_type": "code",
   "execution_count": null,
   "metadata": {},
   "outputs": [],
   "source": [
    "# Mostrare la varianza per ogni ora sull'asse secondario y\n",
    "# Raggruppa i dati per :Ora e calcola la varianza e la covarianza\n",
    "grouped_hourly = groupby(GSE_profiles_resident, [:Ora])\n",
    "average_curve_hourly = combine(grouped_hourly, :PDMM => mean => :Valore_medio)\n",
    "variance_curve_hourly = combine(grouped_hourly, :PDMM => var => :Varianza)\n",
    "\n",
    "\n",
    "# Crea un nuovo plot e aggiungi l'asse secondario y\n",
    "p2_1 = deepcopy(p0)\n",
    "\n",
    "# Plotta i dati ma l'asse secondario y è utilizzato per la varianza e la covarianza a 10^-3\n",
    "plot!(p2_1, average_curve_hourly.Ora, average_curve_hourly.Valore_medio, label = \"Valore medio\", color = :red)\n",
    "p_secondary = twinx()\n",
    "plot!(p_secondary, variance_curve_hourly.Ora, variance_curve_hourly.Varianza, label = \"Varianza\", color = :blue, legend = :top, ylabel = \"Varianza [kW^2]\")\n",
    "\n",
    "# Mostra il plot\n",
    "display(p2_1)\n",
    "\n",
    "# Salva il plot\n",
    "savefig(joinpath(general_path,\"../results/Immagini/GSE/GSE_var.png\"))"
   ]
  },
  {
   "cell_type": "code",
   "execution_count": null,
   "metadata": {},
   "outputs": [],
   "source": [
    "# Definisci una funzione per ottenere l'indice del valore massimo, minimo e medio\n",
    "function get_indices(df)\n",
    "    max_index = argmax(df.PDMM)\n",
    "    min_index = argmin(df.PDMM)\n",
    "    mean_value = mean(df.PDMM)\n",
    "    _, median_index = findmin(abs.(df.PDMM .- median(df.PDMM)))\n",
    "    _, mean_index = findmin(abs.(df.PDMM .- mean_value))\n",
    "    return (max_index = df[max_index, :Mese], min_index = df[min_index, :Mese], mean_index = df[mean_index, :Mese], median_index = df[median_index, :Mese])\n",
    "end\n",
    "\n",
    "# Applica la funzione a ciascun gruppo\n",
    "indices = combine(groupby(GSE_profiles_resident, :Ora), get_indices)\n",
    "\n",
    "# Conta le ricorrenze dei valori in ciascuna colonna\n",
    "max_counts = sort(countmap(indices.max_index), rev=false)\n",
    "min_counts = sort(countmap(indices.min_index), rev=false)\n",
    "mean_counts = sort(countmap(indices.mean_index), rev=false)\n",
    "median_counts = sort(countmap(indices.median_index), rev=false)\n",
    "\n",
    "# Stampa i risultati\n",
    "println(\"Max counts: \", max_counts)\n",
    "println(\"Min counts: \", min_counts)\n",
    "println(\"Mean counts: \", mean_counts)\n",
    "println(\"Median counts: \", median_counts)"
   ]
  },
  {
   "cell_type": "code",
   "execution_count": null,
   "metadata": {},
   "outputs": [],
   "source": [
    "#Aggiungo una nuova colonna che calcola il giorno della settimana utilizzando le colonne anno, mese e giorno\n",
    "GSE_profiles_resident[!,:Giorno_settimana] = map(row -> Dates.dayname(Dates.Date(row[:Anno], row[:Mese], row[:Giorno])), eachrow(GSE_profiles_resident))\n",
    "\n",
    "# Voglio ottenere la media della colonna PDMM per ciascun giorno della settimana\n",
    "grouped_weekday = groupby(GSE_profiles_resident, [:Giorno_settimana,:Ora])\n",
    "average_curve_weekday = combine(grouped_weekday, :PDMM => mean => :Valore_medio)\n",
    "\n",
    "# Crea un nuovo plot\n",
    "p3 = deepcopy(p0)\n",
    "\n",
    "# Plotta i dati\n",
    "for i in unique(average_curve_weekday.Giorno_settimana)\n",
    "    subset = average_curve_weekday[average_curve_weekday.Giorno_settimana .== i, :]\n",
    "    plot!(p3, subset.Ora, subset.Valore_medio, label = i, color = rand(RGB))\n",
    "end\n",
    "\n",
    "# Mostra il plot\n",
    "display(p3)\n",
    "\n",
    "# Salva il plot\n",
    "savefig(joinpath(general_path,\"../results/Immagini/GSE/GSE_weekday.png\"))"
   ]
  },
  {
   "cell_type": "markdown",
   "metadata": {},
   "source": [
    "# Export results"
   ]
  },
  {
   "cell_type": "code",
   "execution_count": null,
   "metadata": {},
   "outputs": [],
   "source": [
    "# Save the data as a csv file for further analysis\n",
    "CSV.write(joinpath(general_path,\"../results/Dati/GSE_profiles_resident_v1_Antrodoco.csv\"), GSE_profiles_resident)"
   ]
  }
 ],
 "metadata": {
  "kernelspec": {
   "display_name": "Julia 1.8.5",
   "language": "julia",
   "name": "julia-1.8"
  },
  "language_info": {
   "file_extension": ".jl",
   "mimetype": "application/julia",
   "name": "julia",
   "version": "1.8.5"
  }
 },
 "nbformat": 4,
 "nbformat_minor": 2
}
