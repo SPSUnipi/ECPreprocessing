{
 "cells": [
  {
   "cell_type": "markdown",
   "metadata": {},
   "source": [
    "# Profile generator based on ARERA data\n",
    "\n",
    "This notebook aims at generating time series scenarios based on ARERA data,\n",
    "and the corresponding configuration file compatible with EnergyCommunity.jl"
   ]
  },
  {
   "cell_type": "markdown",
   "metadata": {},
   "source": [
    "## Main inputs and imports"
   ]
  },
  {
   "cell_type": "markdown",
   "metadata": {},
   "source": [
    "Inputs"
   ]
  },
  {
   "cell_type": "code",
   "execution_count": null,
   "metadata": {},
   "outputs": [],
   "source": [
    "data_folder = \"../data/ARERA\"  # Folder containing the data\n",
    "NAME_FILE_START = \"dati prelievo orario\"  # Initial file name to be used as filter\n",
    "output_merged = \"all_data.csv\"  # Output file name\n",
    "\n",
    "province = \"Pisa\"  # Province of analysis\n",
    "weeks_per_month = 1  # Number of representative weeks per month\n",
    "months_per_year = 12  # Number of months per year\n",
    "\n",
    "add_randomness = true  # When true, a gaussian noise is added to the profiles in agreement to parameters in the config.\n",
    "                        # Alternatively, no randomness is added\n",
    "user_specific = false  # When true, each user of the EC will have a specific profile (including randomness if enabled)\n",
    "                        # When false, all users of the same class will have the same profile\n",
    "\n",
    "config_file = \"../data/config_profile_generator.yaml\"  # Name of the config file for the analysis"
   ]
  },
  {
   "cell_type": "markdown",
   "metadata": {},
   "source": [
    "Imports"
   ]
  },
  {
   "cell_type": "code",
   "execution_count": null,
   "metadata": {},
   "outputs": [],
   "source": [
    "using XLSX, YAML, CSV, DataFrames, Dates"
   ]
  },
  {
   "cell_type": "markdown",
   "metadata": {},
   "source": [
    "## Read all input files"
   ]
  },
  {
   "cell_type": "markdown",
   "metadata": {},
   "source": [
    "Read config file"
   ]
  },
  {
   "cell_type": "code",
   "execution_count": null,
   "metadata": {},
   "outputs": [],
   "source": [
    "config = YAML.load_file(config_file)  # read config file\n",
    "\n",
    "component_types = config[\"component_types\"]\n",
    "user_types = config[\"user_types\"]\n",
    "EC_scenarios = config[\"EC_scenarios\"];"
   ]
  },
  {
   "cell_type": "markdown",
   "metadata": {},
   "source": [
    "Read all data files"
   ]
  },
  {
   "cell_type": "code",
   "execution_count": null,
   "metadata": {},
   "outputs": [],
   "source": [
    "fp = \"C:/Users/Davide/Desktop/ECPreprocessing/data/ARERA/dati prelievo orario per provincia potenza6 anno 2022.xlsx\"\n",
    "\n",
    "\"\"\"\n",
    "Reads the ARERA xlsx file and cleans it\n",
    "\"\"\"\n",
    "function read_arera_xlsx(fp)\n",
    "    df_temp = DataFrame(XLSX.readtable(fp, 1))\n",
    "    df_temp = filter(x->(x[\"Anno mese\"] isa Date), df_temp)\n",
    "    df_temp[!, :Mese] =  Dates.month.(df_temp[!, \"Anno mese\"])\n",
    "    df_temp[!, :Orario] = parse.(Int, map(x->x[4:end], df_temp[!, :Orario]))\n",
    "    rename!(df_temp, \"Prelievo medio Orario Provinciale (kWh)\"=>\"Prelievo_kWh\")\n",
    "    return df_temp\n",
    "end"
   ]
  },
  {
   "cell_type": "code",
   "execution_count": null,
   "metadata": {},
   "outputs": [],
   "source": [
    "df_list_data = []\n",
    "\n",
    "for (root, dirs, files) in walkdir(data_folder)\n",
    "    for file in files\n",
    "        if endswith(file, \".xlsx\") && startswith(file, NAME_FILE_START)\n",
    "            fp = joinpath(root, file)  # get the full path of the file\n",
    "            println(fp)\n",
    "            df = read_arera_xlsx(fp)  # read the data\n",
    "            df_st = filter(x->x[:Provincia]==province, df)[:, Not(:Provincia)]\n",
    "            push!(df_list_data, df_st)  # append the DataFrame to the list\n",
    "        end\n",
    "    end\n",
    "end\n",
    "\n",
    "# merge data\n",
    "df_arera = vcat(df_list_data...)\n",
    "\n",
    "first(df_arera, 5)"
   ]
  },
  {
   "cell_type": "markdown",
   "metadata": {},
   "source": [
    "#### Create weekly time series for the relevant consumer types"
   ]
  },
  {
   "cell_type": "code",
   "execution_count": null,
   "metadata": {},
   "outputs": [],
   "source": [
    "\"\"\"\n",
    "    to_weekly_profile(df)\n",
    "\n",
    "Given an ARERA dataframe with columns \"Working Day\" and \"Orario\",\n",
    "it generates a weekly profile, considering the profiles for Saturday (SAB), Sunday (DOM) and weekdays (Giorno_feriale)\n",
    "\"\"\"\n",
    "function to_weekly_profile(df)\n",
    "    df_m = copy(df)\n",
    "    df_m[df_m[!, \"Working Day\"] .== \"SAB\", :Orario] .+= 5 * 24\n",
    "    df_m[df_m[!, \"Working Day\"] .== \"DOM\", :Orario] .+= 6 * 24\n",
    "    df_feriale = df_m[df_m[!, \"Working Day\"] .== \"Giorno_feriale\", Not(\"Working Day\")]\n",
    "    df_list = [df_m[!, Not(\"Working Day\")]]\n",
    "    for i = 1:4\n",
    "        df_temp = copy(df_feriale)\n",
    "        df_temp[!, :Orario] .+= i * 24\n",
    "        push!(df_list, df_temp)\n",
    "    end\n",
    "\n",
    "    df_week = vcat(df_list...)\n",
    "    sort!(df_week, :Orario)\n",
    "    return df_week\n",
    "end"
   ]
  },
  {
   "cell_type": "markdown",
   "metadata": {},
   "source": [
    "#### Creates a yearly representative dataframe for each user type"
   ]
  },
  {
   "cell_type": "code",
   "execution_count": null,
   "metadata": {},
   "outputs": [],
   "source": [
    "\"\"\"\n",
    "    create_year_equivalent_profiles\n",
    "\n",
    "This functions reads the dictionary of user profiles and returns a modified year-equivalent version.\n",
    "\"\"\"\n",
    "function create_year_equivalent_profiles(\n",
    "    user_weekly_profiles, weeks_per_month, months_per_year,\n",
    ")\n",
    "    @assert (mod(12, months_per_year) == 0) \"Parameter months_per_year must be a divisor of 12 months\"\n",
    "    @assert (1 <= weeks_per_month <= 4) \"Parameter weeks_per_month must be within 1 and 4\"\n",
    "\n",
    "    eq_months = 1:months_per_year  # index of equivalent index month\n",
    "    months_to_merge = Int(12 / months_per_year)  # number of months to merge per year\n",
    "\n",
    "    custom_mean(x...) = .+(x...)/length(x)\n",
    "\n",
    "    year_equivalent_profiles = Dict{String, Vector{Float64}}()\n",
    "    for (u_name, u_value) in user_weekly_profiles\n",
    "        # Aggregate months\n",
    "        eq_month_profile = select(\n",
    "            u_value,\n",
    "            [\n",
    "                Symbol.([\"$(e+i-1)\" for i in 1:months_to_merge]) => custom_mean => Symbol(\"$e\")\n",
    "                for e in eq_months\n",
    "            ]...,\n",
    "            copycols=false,\n",
    "        )\n",
    "\n",
    "        # if multiple weeks per month are selected, expand the profiles as appropriate\n",
    "        if weeks_per_month > 1\n",
    "            df_list = [eq_month_profile]\n",
    "            for i = 2:weeks_per_month\n",
    "                df_temp = copy(eq_month_profile)\n",
    "                df_temp[!, :Orario] .+= 24*7\n",
    "                push!(df_list, df_temp)\n",
    "            end\n",
    "            eq_month_profile = vcat(df_list...)\n",
    "        end\n",
    "\n",
    "        year_equivalent_profiles[u_name] = vcat(\n",
    "            eachcol(eq_month_profile[!, [\"$e\" for e in eq_months]])...\n",
    "        )\n",
    "    end\n",
    "\n",
    "    df_yearly = DataFrame(year_equivalent_profiles)\n",
    "    df_yearly[!, :Orario] = 1:nrow(df_yearly)\n",
    "\n",
    "    return df_yearly[!, [\"Orario\"; collect(keys(year_equivalent_profiles))]]\n",
    "end"
   ]
  },
  {
   "cell_type": "code",
   "execution_count": null,
   "metadata": {},
   "outputs": [],
   "source": [
    "user_weekly_profiles = Dict{String, DataFrame}()\n",
    "\n",
    "FILTER_COLS = [\"Mese\", \"Working Day\", \"Orario\", \"Prelievo_kWh\"]\n",
    "\n",
    "for (u_name, u_value) in user_types\n",
    "    \n",
    "    # filter the original df_arera dataframe to select only relevant info\n",
    "    df_raw = filter(\n",
    "        x->all(x[c]==v for (c,v) in u_value[\"filter_codes\"]),\n",
    "        df_arera,\n",
    "    )[!, FILTER_COLS]\n",
    "\n",
    "    gdf = groupby(df_raw, :Mese)  # groupby by month\n",
    "    weekly_profiles_stacked = combine(gdf, to_weekly_profile)  # create weekly time series for each month\n",
    "    weekly_profiles = unstack(weekly_profiles_stacked, :Mese, :Prelievo_kWh)  # create unstacked dataframe\n",
    "\n",
    "    user_weekly_profiles[u_name] = weekly_profiles\n",
    "end\n",
    "user_weekly_profiles"
   ]
  },
  {
   "cell_type": "markdown",
   "metadata": {},
   "source": [
    "Create DataFrame with yearly data by row and in columns the name of user types"
   ]
  },
  {
   "cell_type": "code",
   "execution_count": null,
   "metadata": {},
   "outputs": [],
   "source": [
    "user_yearly_profiles = create_year_equivalent_profiles(user_weekly_profiles, weeks_per_month, months_per_year)\n",
    "first(user_yearly_profiles, 5)"
   ]
  },
  {
   "cell_type": "markdown",
   "metadata": {},
   "source": [
    "#### Generate profiles for the target ECs as specified in the config file"
   ]
  },
  {
   "cell_type": "code",
   "execution_count": null,
   "metadata": {},
   "outputs": [],
   "source": [
    "for (s_name, s_value) in EC_scenarios\n",
    "    \n",
    "end"
   ]
  },
  {
   "cell_type": "code",
   "execution_count": null,
   "metadata": {},
   "outputs": [],
   "source": []
  }
 ],
 "metadata": {
  "kernelspec": {
   "display_name": "Julia 1.8.5",
   "language": "julia",
   "name": "julia-1.8"
  },
  "language_info": {
   "file_extension": ".jl",
   "mimetype": "application/julia",
   "name": "julia",
   "version": "1.8.5"
  }
 },
 "nbformat": 4,
 "nbformat_minor": 2
}
